{
 "cells": [
  {
   "cell_type": "code",
   "execution_count": 15,
   "metadata": {},
   "outputs": [],
   "source": [
    "import ROOT\n",
    "import tensorflow as tf\n",
    "from tensorflow import keras\n",
    "from root_numpy import root2array, rec2array, array2root, tree2array\n",
    "from load_data import load_data\n",
    "from sklearn.model_selection import train_test_split\n",
    "import numpy as np\n",
    "import copy\n",
    "import pandas as pd\n",
    "import matplotlib.pyplot as plt"
   ]
  },
  {
   "cell_type": "code",
   "execution_count": 3,
   "metadata": {},
   "outputs": [],
   "source": [
    "#create Train and test datasets\n",
    "Trees = ['TreeQ','TreeG']\n",
    "data = load_data('../data',Trees)\n",
    "traindataset,valdataset = train_test_split(data,test_size=0.2,random_state=42)\n",
    "trainData = copy.deepcopy(traindataset)\n",
    "valData = copy.deepcopy(valdataset)"
   ]
  },
  {
   "cell_type": "code",
   "execution_count": 4,
   "metadata": {},
   "outputs": [],
   "source": [
    "y_train,y_val = trainData['target'],valData['target']\n",
    "X_train,X_val = trainData.drop('target',axis=1),valData.drop('target',axis=1)\n",
    "#y_train,y_val = y_train.drop['JetPt'],y_val.drop['JetPt']\n",
    "X_train,X_val = X_train.drop('JetPt',axis=1),X_val.drop('JetPt',axis=1)"
   ]
  },
  {
   "cell_type": "code",
   "execution_count": 5,
   "metadata": {},
   "outputs": [],
   "source": [
    "X_train_np = X_train.to_numpy()\n",
    "y_train_np = y_train.to_numpy()\n",
    "X_val_np = X_val.to_numpy()\n",
    "y_val_np = y_val.to_numpy()"
   ]
  },
  {
   "cell_type": "code",
   "execution_count": 17,
   "metadata": {},
   "outputs": [
    {
     "name": "stdout",
     "output_type": "stream",
     "text": [
      "Model: \"sequential_1\"\n",
      "_________________________________________________________________\n",
      "Layer (type)                 Output Shape              Param #   \n",
      "=================================================================\n",
      "flatten_1 (Flatten)          (None, 2)                 0         \n",
      "_________________________________________________________________\n",
      "dense_3 (Dense)              (None, 30)                90        \n",
      "_________________________________________________________________\n",
      "dense_4 (Dense)              (None, 10)                310       \n",
      "_________________________________________________________________\n",
      "dense_5 (Dense)              (None, 1)                 11        \n",
      "=================================================================\n",
      "Total params: 411\n",
      "Trainable params: 411\n",
      "Non-trainable params: 0\n",
      "_________________________________________________________________\n"
     ]
    }
   ],
   "source": [
    "model = keras.models.Sequential([\n",
    "    keras.layers.Flatten(input_shape=[2]),\n",
    "    keras.layers.Dense(30,activation='relu'),\n",
    "    keras.layers.Dense(10,activation='relu'),\n",
    "    keras.layers.Dense(1,activation='sigmoid')\n",
    "])\n",
    "model.summary()"
   ]
  },
  {
   "cell_type": "code",
   "execution_count": 18,
   "metadata": {},
   "outputs": [],
   "source": [
    "X_train_np = X_train_np.astype('float64')\n",
    "X_val_np = X_val_np.astype('float64')\n",
    "y_train_np = y_train_np.astype('float64')\n",
    "y_val_np = y_val_np.astype('float64')"
   ]
  },
  {
   "cell_type": "code",
   "execution_count": 19,
   "metadata": {},
   "outputs": [],
   "source": [
    "model.compile(loss='binary_crossentropy',optimizer='sgd',metrics=['accuracy'])"
   ]
  },
  {
   "cell_type": "code",
   "execution_count": 20,
   "metadata": {},
   "outputs": [
    {
     "name": "stdout",
     "output_type": "stream",
     "text": [
      "Train on 498814 samples, validate on 124704 samples\n",
      "Epoch 1/30\n",
      "498814/498814 [==============================] - 121s 242us/sample - loss: 0.4910 - accuracy: 0.7996 - val_loss: 0.4717 - val_accuracy: 0.8012\n",
      "Epoch 2/30\n",
      "498814/498814 [==============================] - 120s 241us/sample - loss: 0.4683 - accuracy: 0.7992 - val_loss: 0.4504 - val_accuracy: 0.8012\n",
      "Epoch 3/30\n",
      "498814/498814 [==============================] - 117s 234us/sample - loss: 0.4512 - accuracy: 0.7995 - val_loss: 0.4244 - val_accuracy: 0.8012\n",
      "Epoch 4/30\n",
      "498814/498814 [==============================] - 129s 259us/sample - loss: 0.4401 - accuracy: 0.7996 - val_loss: 0.4262 - val_accuracy: 0.8012\n",
      "Epoch 5/30\n",
      "498814/498814 [==============================] - 116s 233us/sample - loss: 0.4316 - accuracy: 0.7996 - val_loss: 0.4299 - val_accuracy: 0.8012\n",
      "Epoch 6/30\n",
      "498814/498814 [==============================] - 119s 238us/sample - loss: 0.4269 - accuracy: 0.7996 - val_loss: 0.4104 - val_accuracy: 0.8012\n",
      "Epoch 7/30\n",
      "498814/498814 [==============================] - 129s 259us/sample - loss: 0.4241 - accuracy: 0.7996 - val_loss: 0.4146 - val_accuracy: 0.8012\n",
      "Epoch 8/30\n",
      "498814/498814 [==============================] - 113s 226us/sample - loss: 0.4230 - accuracy: 0.7996 - val_loss: 0.4304 - val_accuracy: 0.8012\n",
      "Epoch 9/30\n",
      "498814/498814 [==============================] - 93s 186us/sample - loss: 0.4209 - accuracy: 0.7996 - val_loss: 0.4357 - val_accuracy: 0.8012\n",
      "Epoch 10/30\n",
      "498814/498814 [==============================] - 103s 206us/sample - loss: 0.4203 - accuracy: 0.7996 - val_loss: 0.4148 - val_accuracy: 0.8012\n",
      "Epoch 11/30\n",
      "498814/498814 [==============================] - 118s 237us/sample - loss: 0.4196 - accuracy: 0.7997 - val_loss: 0.4430 - val_accuracy: 0.8012\n",
      "Epoch 12/30\n",
      "498814/498814 [==============================] - 101s 203us/sample - loss: 0.4188 - accuracy: 0.7996 - val_loss: 0.4117 - val_accuracy: 0.8016\n",
      "Epoch 13/30\n",
      "498814/498814 [==============================] - 112s 225us/sample - loss: 0.4182 - accuracy: 0.8000 - val_loss: 0.4099 - val_accuracy: 0.8017\n",
      "Epoch 14/30\n",
      "498814/498814 [==============================] - 110s 220us/sample - loss: 0.4178 - accuracy: 0.8001 - val_loss: 0.4102 - val_accuracy: 0.8017\n",
      "Epoch 15/30\n",
      "498814/498814 [==============================] - 111s 222us/sample - loss: 0.4175 - accuracy: 0.8002 - val_loss: 0.4115 - val_accuracy: 0.8017\n",
      "Epoch 16/30\n",
      "498814/498814 [==============================] - 109s 219us/sample - loss: 0.4171 - accuracy: 0.8002 - val_loss: 0.4117 - val_accuracy: 0.8020\n",
      "Epoch 17/30\n",
      "498814/498814 [==============================] - 106s 213us/sample - loss: 0.4169 - accuracy: 0.8001 - val_loss: 0.4291 - val_accuracy: 0.8017\n",
      "Epoch 18/30\n",
      "498814/498814 [==============================] - 111s 223us/sample - loss: 0.4167 - accuracy: 0.8002 - val_loss: 0.4323 - val_accuracy: 0.8018\n",
      "Epoch 19/30\n",
      "498814/498814 [==============================] - 108s 216us/sample - loss: 0.4163 - accuracy: 0.8002 - val_loss: 0.4158 - val_accuracy: 0.8017\n",
      "Epoch 20/30\n",
      "498814/498814 [==============================] - 103s 206us/sample - loss: 0.4163 - accuracy: 0.8002 - val_loss: 0.4087 - val_accuracy: 0.8018\n",
      "Epoch 21/30\n",
      "498814/498814 [==============================] - 88s 176us/sample - loss: 0.4160 - accuracy: 0.8001 - val_loss: 0.4089 - val_accuracy: 0.8021\n",
      "Epoch 22/30\n",
      "498814/498814 [==============================] - 88s 177us/sample - loss: 0.4158 - accuracy: 0.8003 - val_loss: 0.4125 - val_accuracy: 0.8020\n",
      "Epoch 23/30\n",
      "498814/498814 [==============================] - 70s 141us/sample - loss: 0.4158 - accuracy: 0.8004 - val_loss: 0.4131 - val_accuracy: 0.8020\n",
      "Epoch 24/30\n",
      "498814/498814 [==============================] - 64s 129us/sample - loss: 0.4157 - accuracy: 0.8003 - val_loss: 0.4126 - val_accuracy: 0.8017\n",
      "Epoch 25/30\n",
      "498814/498814 [==============================] - 64s 129us/sample - loss: 0.4157 - accuracy: 0.8003 - val_loss: 0.4284 - val_accuracy: 0.8004\n",
      "Epoch 26/30\n",
      "498814/498814 [==============================] - 64s 127us/sample - loss: 0.4156 - accuracy: 0.8004 - val_loss: 0.4120 - val_accuracy: 0.8017\n",
      "Epoch 27/30\n",
      "498814/498814 [==============================] - 66s 133us/sample - loss: 0.4152 - accuracy: 0.8003 - val_loss: 0.4082 - val_accuracy: 0.8021\n",
      "Epoch 28/30\n",
      "498814/498814 [==============================] - 97s 194us/sample - loss: 0.4154 - accuracy: 0.8002 - val_loss: 0.4086 - val_accuracy: 0.8020\n",
      "Epoch 29/30\n",
      "498814/498814 [==============================] - 119s 238us/sample - loss: 0.4151 - accuracy: 0.8004 - val_loss: 0.4098 - val_accuracy: 0.8020\n",
      "Epoch 30/30\n",
      "498814/498814 [==============================] - 115s 230us/sample - loss: 0.4151 - accuracy: 0.8004 - val_loss: 0.4087 - val_accuracy: 0.8022\n"
     ]
    }
   ],
   "source": [
    "history = model.fit(X_train_np,y_train_np,epochs=30,validation_data=(X_val_np,y_val_np))"
   ]
  },
  {
   "cell_type": "code",
   "execution_count": 21,
   "metadata": {},
   "outputs": [
    {
     "data": {
      "image/png": "[encoded data removed]",
      "text/plain": [
       "<Figure size 576x360 with 1 Axes>"
      ]
     },
     "metadata": {
      "needs_background": "light"
     },
     "output_type": "display_data"
    }
   ],
   "source": [
    "pd.DataFrame(history.history).plot(figsize=(8,5))\n",
    "plt.grid(True)\n",
    "plt.gca().set_ylim(0,1)\n",
    "plt.show()"
   ]
  },
  {
   "cell_type": "code",
   "execution_count": null,
   "metadata": {},
   "outputs": [],
   "source": []
  }
 ],
 "metadata": {
  "kernelspec": {
   "display_name": "Python 3",
   "language": "python",
   "name": "python3"
  },
  "language_info": {
   "codemirror_mode": {
    "name": "ipython",
    "version": 3
   },
   "file_extension": ".py",
   "mimetype": "text/x-python",
   "name": "python",
   "nbconvert_exporter": "python",
   "pygments_lexer": "ipython3",
   "version": "3.6.10"
  }
 },
 "nbformat": 4,
 "nbformat_minor": 4
}
