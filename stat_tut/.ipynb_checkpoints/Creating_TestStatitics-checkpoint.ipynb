{
 "cells": [
  {
   "cell_type": "code",
   "execution_count": 18,
   "metadata": {},
   "outputs": [],
   "source": [
    "# module cells\n",
    "\n",
    "import ROOT\n",
    "import math\n",
    "from math import sin,cos\n",
    "from ROOT import TRandom3\n",
    "from array import array\n",
    "import numpy as np"
   ]
  },
  {
   "cell_type": "markdown",
   "metadata": {},
   "source": [
    "## Creating a Signal and Background\n",
    "\n",
    "Suppose we are detecting electron from ionisation detector which only detects electron or muon. One says we have 95% sure that the detected particles are electron. Lets try to verify the statement. \n",
    "\n",
    "First construct a distribution of electron or your $\\textbf{ Null Hypothesis H0}$ and the muon distribution $\\textbf{H1}$. The variable is $\\frac{dE}{dx}$"
   ]
  },
  {
   "cell_type": "code",
   "execution_count": 27,
   "metadata": {},
   "outputs": [],
   "source": [
    "file = ROOT.TFile('InputFile.root','recreate')\n",
    "Sig = ROOT.TTree('Sig','Electron distribution')\n",
    "Bkg = ROOT.TTree('Bkg','Muon distribution')\n",
    "dEdx = array('f',[0])\n",
    "Sig.Branch('dEdx',dEdx,'dEdx/F')\n",
    "Bkg.Branch('dEdx',dEdx,'dEdx/F')\n",
    "\n",
    "rand = TRandom3(1234)\n",
    "NEvents = 10000\n",
    "r0,sigma= 2.0,0.5\n",
    "\n",
    "#creating Signal\n",
    "for evt in range(NEvents):\n",
    "    dEdx[0] = sigma*rand.Gaus()\n",
    "    Sig.Fill()\n",
    "    \n",
    "#creating Background\n",
    "for evt in range(NEvents):\n",
    "    r = rand.Rndm()*0.7\n",
    "    x0 = r0*cos(r*math.pi)\n",
    "    dEdx[0] = x0 + sigma*rand.Gaus()\n",
    "    Bkg.Fill()\n",
    "    \n",
    "file.Write()\n",
    "file.Close()"
   ]
  },
  {
   "cell_type": "markdown",
   "metadata": {},
   "source": [
    "A root file created in your current directory. you can find two trees in the file one is for signal and background. We could see the distributions."
   ]
  },
  {
   "cell_type": "code",
   "execution_count": 39,
   "metadata": {},
   "outputs": [
    {
     "data": {
      "text/html": [
       "\n",
       "<div id=\"root_plot_1586730055904\"\n",
       "     style=\"width: 696px; height: 472px\">\n",
       "</div>\n",
       "<script>\n",
       "if (typeof require !== 'undefined') {\n",
       "\n",
       "    // All requirements met (we are in jupyter notebooks or we loaded requirejs before).\n",
       "    display_root_plot_1586730055904();\n",
       "\n",
       "} else {\n",
       "\n",
       "    // We are in jupyterlab, we need to insert requirejs and configure it.\n",
       "    // Jupyterlab might be installed in a different base_url so we need to know it.\n",
       "    try {\n",
       "        var base_url = JSON.parse(document.getElementById('jupyter-config-data').innerHTML).baseUrl;\n",
       "    } catch(_) {\n",
       "        var base_url = '/';\n",
       "    }\n",
       "\n",
       "    // Try loading a local version of requirejs and fallback to cdn if not possible.\n",
       "    requirejs_load(base_url + 'static/components/requirejs/require.js', requirejs_success(base_url), function(){\n",
       "        requirejs_load('https://cdnjs.cloudflare.com/ajax/libs/require.js/2.2.0/require.min.js', requirejs_success(base_url), function(){\n",
       "            document.getElementById(\"root_plot_1586730055904\").innerHTML = \"Failed to load requireJs\";\n",
       "        });\n",
       "    });\n",
       "}\n",
       "\n",
       "function requirejs_load(src, on_load, on_error) {\n",
       "    var script = document.createElement('script');\n",
       "    script.src = src;\n",
       "    script.onload = on_load;\n",
       "    script.onerror = on_error;\n",
       "    document.head.appendChild(script);\n",
       "}\n",
       "\n",
       "function requirejs_success(base_url) {\n",
       "    return function() {\n",
       "        require.config({\n",
       "            baseUrl: base_url + 'static/'\n",
       "        });\n",
       "        display_root_plot_1586730055904();\n",
       "    }\n",
       "}\n",
       "\n",
       "function display_root_plot_1586730055904() {\n",
       "    require(['scripts/JSRootCore'],\n",
       "        function(Core) {\n",
       "            var obj = Core.JSONR_unref({\"_typename\":\"TCanvas\",\"fUniqueID\":0,\"fBits\":3342344,\"fLineColor\":1,\"fLineStyle\":1,\"fLineWidth\":1,\"fFillColor\":0,\"fFillStyle\":1001,\"fLeftMargin\":0.1,\"fRightMargin\":0.1,\"fBottomMargin\":0.1,\"fTopMargin\":0.1,\"fXfile\":2,\"fYfile\":2,\"fAfile\":1,\"fXstat\":0.99,\"fYstat\":0.99,\"fAstat\":2,\"fFrameFillColor\":0,\"fFrameLineColor\":1,\"fFrameFillStyle\":1001,\"fFrameLineStyle\":1,\"fFrameLineWidth\":1,\"fFrameBorderSize\":1,\"fFrameBorderMode\":0,\"fX1\":-2.50000003725291,\"fY1\":-45.1500033639373,\"fX2\":2.50000003725291,\"fY2\":406.350003363937,\"fXtoAbsPixelk\":348.00005,\"fXtoPixelk\":348.00005,\"fXtoPixel\":139.199997925758,\"fYtoAbsPixelk\":424.800047186661,\"fYtoPixelk\":424.800047186661,\"fYtoPixel\":-1.04540419261717,\"fUtoAbsPixelk\":5e-5,\"fUtoPixelk\":5e-5,\"fUtoPixel\":696,\"fVtoAbsPixelk\":472.00005,\"fVtoPixelk\":472,\"fVtoPixel\":-472,\"fAbsPixeltoXk\":-2.50000003725291,\"fPixeltoXk\":-2.50000003725291,\"fPixeltoX\":0.00718390815302559,\"fAbsPixeltoYk\":406.350003363937,\"fPixeltoYk\":-45.1500033639373,\"fPixeltoY\":-0.956567810864141,\"fXlowNDC\":0,\"fYlowNDC\":0,\"fXUpNDC\":1,\"fYUpNDC\":1,\"fWNDC\":1,\"fHNDC\":1,\"fAbsXlowNDC\":0,\"fAbsYlowNDC\":0,\"fAbsWNDC\":1,\"fAbsHNDC\":1,\"fUxmin\":-2,\"fUymin\":0,\"fUxmax\":2,\"fUymax\":361.2,\"fTheta\":30,\"fPhi\":30,\"fAspectRatio\":0,\"fNumber\":0,\"fTickx\":0,\"fTicky\":0,\"fLogx\":0,\"fLogy\":0,\"fLogz\":0,\"fPadPaint\":0,\"fCrosshair\":0,\"fCrosshairPos\":0,\"fBorderSize\":2,\"fBorderMode\":0,\"fModified\":false,\"fGridx\":false,\"fGridy\":false,\"fAbsCoord\":false,\"fEditable\":true,\"fFixedAspectRatio\":false,\"fPrimitives\":{\"_typename\":\"TList\",\"name\":\"TList\",\"arr\":[{\"_typename\":\"TFrame\",\"fUniqueID\":0,\"fBits\":8,\"fLineColor\":1,\"fLineStyle\":1,\"fLineWidth\":1,\"fFillColor\":0,\"fFillStyle\":1001,\"fX1\":-2,\"fY1\":0,\"fX2\":2,\"fY2\":361.2,\"fBorderSize\":1,\"fBorderMode\":0},{\"_typename\":\"TH1D\",\"fUniqueID\":0,\"fBits\":8,\"fName\":\"electron\",\"fTitle\":\"\",\"fLineColor\":602,\"fLineStyle\":1,\"fLineWidth\":1,\"fFillColor\":0,\"fFillStyle\":1001,\"fMarkerColor\":1,\"fMarkerStyle\":1,\"fMarkerSize\":1,\"fNcells\":101,\"fXaxis\":{\"_typename\":\"TAxis\",\"fUniqueID\":0,\"fBits\":0,\"fName\":\"xaxis\",\"fTitle\":\"\",\"fNdivisions\":510,\"fAxisColor\":1,\"fLabelColor\":1,\"fLabelFont\":42,\"fLabelOffset\":0.005,\"fLabelSize\":0.035,\"fTickLength\":0.03,\"fTitleOffset\":1,\"fTitleSize\":0.035,\"fTitleColor\":1,\"fTitleFont\":42,\"fNbins\":99,\"fXmin\":-2,\"fXmax\":2,\"fXbins\":[-2,-1.95959595959596,-1.91919191919192,-1.87878787878788,-1.83838383838384,-1.7979797979798,-1.75757575757576,-1.71717171717172,-1.67676767676768,-1.63636363636364,-1.5959595959596,-1.55555555555556,-1.51515151515152,-1.47474747474747,-1.43434343434343,-1.39393939393939,-1.35353535353535,-1.31313131313131,-1.27272727272727,-1.23232323232323,-1.19191919191919,-1.15151515151515,-1.11111111111111,-1.07070707070707,-1.03030303030303,-0.98989898989899,-0.949494949494949,-0.909090909090909,-0.868686868686869,-0.828282828282828,-0.787878787878788,-0.747474747474747,-0.707070707070707,-0.666666666666667,-0.626262626262626,-0.585858585858586,-0.545454545454545,-0.505050505050505,-0.464646464646465,-0.424242424242424,-0.383838383838384,-0.343434343434343,-0.303030303030303,-0.262626262626263,-0.222222222222222,-0.181818181818182,-0.141414141414141,-0.101010101010101,-0.0606060606060606,-0.0202020202020201,0.0202020202020203,0.060606060606061,0.101010101010101,0.141414141414141,0.181818181818182,0.222222222222222,0.262626262626263,0.303030303030303,0.343434343434343,0.383838383838384,0.424242424242424,0.464646464646465,0.505050505050505,0.545454545454546,0.585858585858586,0.626262626262626,0.666666666666667,0.707070707070707,0.747474747474748,0.787878787878788,0.828282828282829,0.868686868686869,0.909090909090909,0.94949494949495,0.98989898989899,1.03030303030303,1.07070707070707,1.11111111111111,1.15151515151515,1.19191919191919,1.23232323232323,1.27272727272727,1.31313131313131,1.35353535353535,1.39393939393939,1.43434343434343,1.47474747474747,1.51515151515152,1.55555555555556,1.5959595959596,1.63636363636364,1.67676767676768,1.71717171717172,1.75757575757576,1.7979797979798,1.83838383838384,1.87878787878788,1.91919191919192,1.95959595959596,2],\"fFirst\":0,\"fLast\":0,\"fBits2\":0,\"fTimeDisplay\":false,\"fTimeFormat\":\"\",\"fLabels\":null,\"fModLabs\":null},\"fYaxis\":{\"_typename\":\"TAxis\",\"fUniqueID\":0,\"fBits\":0,\"fName\":\"yaxis\",\"fTitle\":\"\",\"fNdivisions\":510,\"fAxisColor\":1,\"fLabelColor\":1,\"fLabelFont\":42,\"fLabelOffset\":0.005,\"fLabelSize\":0.035,\"fTickLength\":0.03,\"fTitleOffset\":0,\"fTitleSize\":0.035,\"fTitleColor\":1,\"fTitleFont\":42,\"fNbins\":1,\"fXmin\":0,\"fXmax\":1,\"fXbins\":[],\"fFirst\":0,\"fLast\":0,\"fBits2\":0,\"fTimeDisplay\":false,\"fTimeFormat\":\"\",\"fLabels\":null,\"fModLabs\":null},\"fZaxis\":{\"_typename\":\"TAxis\",\"fUniqueID\":0,\"fBits\":0,\"fName\":\"zaxis\",\"fTitle\":\"\",\"fNdivisions\":510,\"fAxisColor\":1,\"fLabelColor\":1,\"fLabelFont\":42,\"fLabelOffset\":0.005,\"fLabelSize\":0.035,\"fTickLength\":0.03,\"fTitleOffset\":1,\"fTitleSize\":0.035,\"fTitleColor\":1,\"fTitleFont\":42,\"fNbins\":1,\"fXmin\":0,\"fXmax\":1,\"fXbins\":[],\"fFirst\":0,\"fLast\":0,\"fBits2\":0,\"fTimeDisplay\":false,\"fTimeFormat\":\"\",\"fLabels\":null,\"fModLabs\":null},\"fBarOffset\":0,\"fBarWidth\":1000,\"fEntries\":10000,\"fTsumw\":9999,\"fTsumw2\":9999,\"fTsumwx\":-3.47192601788265,\"fTsumwx2\":2504.86416126731,\"fMaximum\":-1111,\"fMinimum\":-1111,\"fNormFactor\":0,\"fContour\":[],\"fSumw2\":[],\"fOption\":\"\",\"fFunctions\":{\"_typename\":\"TList\",\"name\":\"TList\",\"arr\":[{\"_typename\":\"TPaveStats\",\"fUniqueID\":0,\"fBits\":9,\"fLineColor\":1,\"fLineStyle\":1,\"fLineWidth\":1,\"fFillColor\":0,\"fFillStyle\":1001,\"fX1\":1.4000001013279,\"fY1\":304.762504541315,\"fX2\":2.40000013113022,\"fY2\":377.002504003085,\"fX1NDC\":0.780000016093254,\"fY1NDC\":0.775000005960464,\"fX2NDC\":0.980000019073486,\"fY2NDC\":0.935000002384186,\"fBorderSize\":1,\"fInit\":1,\"fShadowColor\":1,\"fCornerRadius\":0,\"fOption\":\"brNDC\",\"fName\":\"stats\",\"fTextAngle\":0,\"fTextSize\":0,\"fTextAlign\":12,\"fTextColor\":1,\"fTextFont\":42,\"fLabel\":\"\",\"fLongest\":18,\"fMargin\":0.05,\"fLines\":{\"_typename\":\"TList\",\"name\":\"TList\",\"arr\":[{\"_typename\":\"TLatex\",\"fUniqueID\":0,\"fBits\":0,\"fName\":\"\",\"fTitle\":\"electron\",\"fTextAngle\":0,\"fTextSize\":0.0368,\"fTextAlign\":0,\"fTextColor\":0,\"fTextFont\":0,\"fX\":0,\"fY\":0,\"fLineColor\":1,\"fLineStyle\":1,\"fLineWidth\":2,\"fLimitFactorSize\":3,\"fOriginSize\":0.0368000008165836},{\"_typename\":\"TLatex\",\"fUniqueID\":0,\"fBits\":0,\"fName\":\"\",\"fTitle\":\"Entries = 10000  \",\"fTextAngle\":0,\"fTextSize\":0,\"fTextAlign\":0,\"fTextColor\":0,\"fTextFont\":0,\"fX\":0,\"fY\":0,\"fLineColor\":1,\"fLineStyle\":1,\"fLineWidth\":2,\"fLimitFactorSize\":3,\"fOriginSize\":0.04},{\"_typename\":\"TLatex\",\"fUniqueID\":0,\"fBits\":0,\"fName\":\"\",\"fTitle\":\"Mean  = -0.0003472\",\"fTextAngle\":0,\"fTextSize\":0,\"fTextAlign\":0,\"fTextColor\":0,\"fTextFont\":0,\"fX\":0,\"fY\":0,\"fLineColor\":1,\"fLineStyle\":1,\"fLineWidth\":2,\"fLimitFactorSize\":3,\"fOriginSize\":0.04},{\"_typename\":\"TLatex\",\"fUniqueID\":0,\"fBits\":0,\"fName\":\"\",\"fTitle\":\"Std Dev   = 0.5005\",\"fTextAngle\":0,\"fTextSize\":0,\"fTextAlign\":0,\"fTextColor\":0,\"fTextFont\":0,\"fX\":0,\"fY\":0,\"fLineColor\":1,\"fLineStyle\":1,\"fLineWidth\":2,\"fLimitFactorSize\":3,\"fOriginSize\":0.04}],\"opt\":[\"\",\"\",\"\",\"\"]},\"fOptFit\":0,\"fOptStat\":1111,\"fFitFormat\":\"5.4g\",\"fStatFormat\":\"6.4g\",\"fParent\":{\"$ref\":3}}],\"opt\":[\"brNDC\"]},\"fBufferSize\":0,\"fBuffer\":[],\"fBinStatErrOpt\":0,\"fStatOverflows\":2,\"fArray\":[0,0,0,0,0,1,0,0,1,0,1,5,4,3,4,8,10,1,16,8,14,21,27,31,30,42,42,56,78,105,81,83,119,145,138,146,169,183,190,206,256,278,253,294,278,310,299,295,305,313,307,344,289,337,317,272,290,235,268,250,219,226,183,196,183,157,143,134,119,101,106,78,56,64,48,38,33,29,26,23,17,10,10,9,7,7,5,4,1,1,0,1,4,0,1,0,1,1,0,0,1]}],\"opt\":[\"\",\"\"]},\"fExecs\":null,\"fName\":\"c1_n4\",\"fTitle\":\"c1_n4\",\"fNumPaletteColor\":0,\"fNextPaletteColor\":0,\"fDISPLAY\":\"$DISPLAY\",\"fDoubleBuffer\":0,\"fRetained\":true,\"fXsizeUser\":0,\"fYsizeUser\":0,\"fXsizeReal\":20,\"fYsizeReal\":14.28571,\"fWindowTopX\":0,\"fWindowTopY\":0,\"fWindowWidth\":0,\"fWindowHeight\":0,\"fCw\":696,\"fCh\":472,\"fCatt\":{\"_typename\":\"TAttCanvas\",\"fXBetween\":2,\"fYBetween\":2,\"fTitleFromTop\":1.2,\"fXdate\":0.2,\"fYdate\":0.3,\"fAdate\":1},\"kMoveOpaque\":true,\"kResizeOpaque\":true,\"fHighLightColor\":2,\"fBatch\":true,\"kShowEventStatus\":false,\"kAutoExec\":true,\"kMenuBar\":true});\n",
       "            Core.draw(\"root_plot_1586730055904\", obj, \"\");\n",
       "        }\n",
       "    );\n",
       "}\n",
       "</script>\n"
      ],
      "text/plain": [
       "<IPython.core.display.HTML object>"
      ]
     },
     "metadata": {},
     "output_type": "display_data"
    }
   ],
   "source": [
    "dSig = ROOT.RDataFrame('Sig','InputFile.root')\n",
    "dBkg = ROOT.RDataFrame('Bkg','InputFile.root')\n",
    "\n",
    "bins = np.linspace(-2,2,100)\n",
    "hSig1D = ROOT.RDF.TH1DModel('electron','',len(bins)-1,array('d',bins))\n",
    "hBkg1D = ROOT.RDF.TH1DModel('muon','',len(bins)-1,array('d',bins))\n",
    "\n",
    "hSig = dSig.Histo1D(hSig1D,'dEdx')\n",
    "hBkg = dSig.Histo1D(hBkg1D,'dEdx')\n",
    "c1 = ROOT.TCanvas()\n",
    "hSig.Draw()\n",
    "#hBkg.Draw('same')\n",
    "c1.Draw()"
   ]
  }
 ],
 "metadata": {
  "kernelspec": {
   "display_name": "Python 3",
   "language": "python",
   "name": "python3"
  },
  "language_info": {
   "codemirror_mode": {
    "name": "ipython",
    "version": 3
   },
   "file_extension": ".py",
   "mimetype": "text/x-python",
   "name": "python",
   "nbconvert_exporter": "python",
   "pygments_lexer": "ipython3",
   "version": "3.6.10"
  }
 },
 "nbformat": 4,
 "nbformat_minor": 4
}
